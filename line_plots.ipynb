{
 "cells": [
  {
   "cell_type": "markdown",
   "metadata": {},
   "source": [
    "# Exploratory analysis\n",
    "\n",
    "We begin by loading the required libraries."
   ]
  },
  {
   "cell_type": "code",
   "execution_count": null,
   "metadata": {
    "title": "libraries and data"
   },
   "outputs": [],
   "source": [
    "import matplotlib.pyplot as plt\n",
    "import numpy as np\n",
    "import pandas as pd\n",
    "%matplotlib inline"
   ]
  },
  {
   "cell_type": "markdown",
   "metadata": {},
   "source": [
    "In the following cell, we define what particular cohort we would like to examine (chosen by selecting an education category, gender, income, and age). "
   ]
  },
  {
   "cell_type": "code",
   "execution_count": null,
   "metadata": {
    "title": "Plot cohort data as a function of time"
   },
   "outputs": [],
   "source": [
    "cohort_ed = 'Some College'\n",
    "cohort_gender = 'Male'\n",
    "cohort_income = '$70,000 - $74,999'\n",
    "cohort_age = '65-74 years old'"
   ]
  },
  {
   "cell_type": "markdown",
   "metadata": {},
   "source": [
    "We now load the subset of the entire dataset focused on people living in California above the age of 65. Note that while dataset was created by a teammate via Excel, one could also of course subset the original dataset using pandas to get the same result. "
   ]
  },
  {
   "cell_type": "code",
   "execution_count": null,
   "metadata": {},
   "outputs": [],
   "source": [
    "df_std = pd.read_csv('Data/elderly-ppl-CA.csv')"
   ]
  },
  {
   "cell_type": "markdown",
   "metadata": {},
   "source": [
    "Rather than consider all possible predictors and stds, we chose to focus on the following key values and prevalances: "
   ]
  },
  {
   "cell_type": "code",
   "execution_count": null,
   "metadata": {},
   "outputs": [],
   "source": [
    "df_key = df_std[['age','gender','state','income','education','date','chlamydia',\\\n",
    "    'gential_warts','gonorrhea','herpes','hpv','other_std','parasitic','syphilis','trich']]\n",
    "#df_key['income'].value_counts()"
   ]
  },
  {
   "cell_type": "markdown",
   "metadata": {},
   "source": [
    "Unfortunately, as shown from the following cell, one of the tough things about this dataset was the number of [NaNs](https://en.wikipedia.org/wiki/NaN?oldformat=true) present: "
   ]
  },
  {
   "cell_type": "code",
   "execution_count": null,
   "metadata": {
    "title": "Print total number of nans"
   },
   "outputs": [],
   "source": [
    "print(df_key.isna().sum().sum())"
   ]
  },
  {
   "cell_type": "markdown",
   "metadata": {},
   "source": [
    "Consequently, in the following set of cells where our primary objective is to list out how many people are in each range of a given categorical variable, we also seek to find the cohort with the minimum set of NaNs. These are identified by labels such as `min_income_bracket` for the case of income. "
   ]
  },
  {
   "cell_type": "code",
   "execution_count": null,
   "metadata": {
    "title": "Find income bracket with the most recorded data"
   },
   "outputs": [],
   "source": [
    "min = 100000\n",
    "income_dict = {}\n",
    "for income_bracket in df_key['income'].unique(): # for each unique income range \n",
    "    num_nans = df_key[df_key['income']==income_bracket].isna().sum().sum()\n",
    "    if (num_nans < min):\n",
    "        min = num_nans\n",
    "        min_income_bracket = income_bracket\n",
    "    income_dict[income_bracket] = num_nans\n",
    "\n",
    "for key, value in sorted(income_dict.items(), key=lambda item: item[1]):\n",
    "    print(\"%s: %s\" % (key, value))"
   ]
  },
  {
   "cell_type": "code",
   "execution_count": null,
   "metadata": {
    "lines_to_next_cell": 2,
    "title": "Find education level with the most recorded data"
   },
   "outputs": [],
   "source": [
    "min = 100000\n",
    "education_dict = {}\n",
    "for education_bracket in df_key['education'].unique():\n",
    "    num_nans = df_key[df_key['education']==education_bracket].isna().sum().sum()\n",
    "    if (num_nans < min):\n",
    "        min = num_nans\n",
    "        min_education_bracket = education_bracket\n",
    "    education_dict[education_bracket] = num_nans\n",
    "\n",
    "for key, value in sorted(education_dict.items(), key=lambda item: item[1]):\n",
    "    print(\"%s: %s\" % (key, value))"
   ]
  },
  {
   "cell_type": "code",
   "execution_count": null,
   "metadata": {
    "lines_to_next_cell": 2,
    "title": "Find gender with the most recorded data"
   },
   "outputs": [],
   "source": [
    "min = 100000\n",
    "gender_dict = {}\n",
    "for gender_bracket in df_key['gender'].unique():\n",
    "    num_nans = df_key[df_key['gender']==gender_bracket].isna().sum().sum()\n",
    "    if (num_nans < min):\n",
    "        min = num_nans\n",
    "        min_gender_bracket = gender_bracket\n",
    "    gender_dict[gender_bracket] = num_nans\n",
    "\n",
    "for key, value in sorted(gender_dict.items(), key=lambda item: item[1]):\n",
    "    print(\"%s: %s\" % (key, value))"
   ]
  },
  {
   "cell_type": "code",
   "execution_count": null,
   "metadata": {
    "lines_to_next_cell": 2,
    "title": "Find age group with the most recorded data"
   },
   "outputs": [],
   "source": [
    "min = 100000\n",
    "age_dict = {}\n",
    "for age_bracket in df_key['age'].unique():\n",
    "    num_nans = df_key[df_key['age']==age_bracket].isna().sum().sum()\n",
    "    if (num_nans < min):\n",
    "        min = num_nans\n",
    "        min_age_bracket = age_bracket\n",
    "    age_dict[age_bracket] = num_nans\n",
    "\n",
    "for key, value in sorted(age_dict.items(), key=lambda item: item[1]):\n",
    "    print(\"%s: %s\" % (key, value))"
   ]
  },
  {
   "cell_type": "markdown",
   "metadata": {},
   "source": [
    "Some observations we made from the above set of cells are as follows: \n",
    "- The majority of people in this subpopulation have a graduate education \n",
    "- The split among male and female is approximately even \n",
    "- There are approximately as many 65-74 year olds as there as 75+ year olds\n",
    "\n",
    "One nice way we can visualize the data is to plot as a function of time STD rates for each STD for our desired cohort (given by the reduced dataframe `df_red`). "
   ]
  },
  {
   "cell_type": "code",
   "execution_count": null,
   "metadata": {
    "title": "Focus on particular cohort"
   },
   "outputs": [],
   "source": [
    "df_red = df_key[(df_key['gender']==cohort_gender) & (df_key['age']==cohort_age) \\\n",
    "    & (df_key['education']==cohort_ed) & (df_key['income']==cohort_income)]\n",
    "df_red = df_red.drop(['age', 'gender','state','education','income'], axis=1)\n",
    "df_red['date'] = pd.to_datetime(df_red.date)\n",
    "df_red = df_red.sort_values(by='date',ascending=True)"
   ]
  },
  {
   "cell_type": "markdown",
   "metadata": {},
   "source": [
    "Displaying the resulting cohort: "
   ]
  },
  {
   "cell_type": "code",
   "execution_count": null,
   "metadata": {},
   "outputs": [],
   "source": [
    "df_red.head(5)"
   ]
  },
  {
   "cell_type": "code",
   "execution_count": null,
   "metadata": {
    "title": "Initialize the figure"
   },
   "outputs": [],
   "source": [
    "plt.figure(figsize=(10,10))\n",
    "plt.style.use('seaborn-darkgrid')\n",
    "\n",
    "# create a color palette\n",
    "palette = plt.get_cmap('Set1')\n",
    "\n",
    "# multiple line plot\n",
    "num=0\n",
    "for column in df_red.drop('date', axis=1):\n",
    "    num+=1\n",
    "    plot_df = df_red[np.isfinite(df_red[column])]\n",
    "    x = plot_df['date']\n",
    "    y = plot_df[column]\n",
    "\n",
    "    # Find the right spot on the plot\n",
    "    plt.subplot(3,3, num)\n",
    "\n",
    "    # plot every groups, but discreet\n",
    "    for v in df_red.drop('date', axis=1):\n",
    "        other_df = df_red[np.isfinite(df_red[v])]\n",
    "        other_x = other_df['date']\n",
    "        other_y = other_df[v]\n",
    "\n",
    "        plt.plot(other_x, other_y, marker='', color='grey', linewidth=0.6, alpha=0.3)\n",
    "\n",
    "    # Plot the lineplot\n",
    "    plt.plot(x,y, marker='', color=palette(num), linewidth=2.4, alpha=0.9, label=column)\n",
    "\n",
    "    # Same limits for everybody!\n",
    "    # plt.xlim(0,10)\n",
    "    # plt.ylim(-2,22)\n",
    "\n",
    "    # Not ticks everywhere\n",
    "    # if num in range(7) :\n",
    "    #     plt.tick_params(labelbottom=False)\n",
    "    # if num not in [1,4,7] :\n",
    "    #     plt.tick_params(labelleft=False)\n",
    "\n",
    "    # Add title\n",
    "    plt.title(column, loc='left', fontsize=12, fontweight=0, color=palette(num) )\n",
    "\n",
    "plt.savefig(('stds_most_sampled_' + cohort_gender + '.png'))\n",
    "\n",
    "# general title\n",
    "# plt.suptitle(\"hi how are you\")\n",
    "#plt.suptitle(\"How the 9 students improved\\nthese past few days?\", fontsize=13, fontweight=0, color='black', style='italic', y=1.02)"
   ]
  },
  {
   "cell_type": "code",
   "execution_count": null,
   "metadata": {
    "lines_to_next_cell": 2,
    "title": "Axis title"
   },
   "outputs": [],
   "source": [
    "# plt.text(0.06, 0.5, 'Note', ha='center', va='center', rotation='vertical')"
   ]
  },
  {
   "cell_type": "code",
   "execution_count": null,
   "metadata": {
    "title": "Which STD has the most data?"
   },
   "outputs": [],
   "source": [
    "print(df_key.isna().sum())"
   ]
  },
  {
   "cell_type": "code",
   "execution_count": null,
   "metadata": {
    "title": "Focus on herpes since it has least amount of NaNs"
   },
   "outputs": [],
   "source": [
    "df_red = df_key[(df_key['gender']==cohort_gender) & (df_key['age']==cohort_age) \\\n",
    "    & (df_key['income']==cohort_income)]\n",
    "df_red = df_red.drop(['age', 'gender','state','income','chlamydia',\\\n",
    "    'gential_warts','gonorrhea','hpv','other_std','parasitic',\\\n",
    "    'syphilis','trich'], axis=1)\n",
    "df_red['date'] = pd.to_datetime(df_red.date)\n",
    "df_red = df_red.sort_values(by='date',ascending=True)\n",
    "df_red = df_red[np.isfinite(df_red['herpes'])]\n",
    "df_red.head()"
   ]
  },
  {
   "cell_type": "code",
   "execution_count": null,
   "metadata": {
    "title": "Plot herpes for different education (given certian income)"
   },
   "outputs": [],
   "source": [
    "fig, ax = plt.subplots(figsize=(10,10))\n",
    "\n",
    "for key, grp in df_red.groupby(['education']):\n",
    "    ax = grp.plot(ax=ax, kind='line', x='date', y='herpes', label=key,fontsize=16)\n",
    "\n",
    "plt.legend(loc='best',fontsize = 12)\n",
    "plt.xlabel('Date',fontsize=16)\n",
    "plt.ylabel('Prevalance (Herpes)',fontsize=16)\n",
    "plt.title(cohort_gender,fontsize=16)\n",
    "plt.savefig(('herpes_vs_time_' + cohort_gender + '.png'))\n",
    "plt.show()"
   ]
  },
  {
   "cell_type": "code",
   "execution_count": null,
   "metadata": {},
   "outputs": [],
   "source": [
    "#print(df_std.columns)\n",
    "# df_std['entertainment_movies_spend'].describe()\n",
    "# df_std['entertainment_movies_spend'].hist()\n",
    "df_std.entertainment_movies_spend.value_counts().plot(kind='bar')"
   ]
  }
 ],
 "metadata": {
  "jupytext": {
   "cell_metadata_filter": "title,-all",
   "notebook_metadata_filter": "-all",
   "text_representation": {
    "extension": ".py",
    "format_name": "hydrogen"
   }
  },
  "kernelspec": {
   "display_name": "Python 3",
   "language": "python",
   "name": "python3"
  },
  "language_info": {
   "codemirror_mode": {
    "name": "ipython",
    "version": 3
   },
   "file_extension": ".py",
   "mimetype": "text/x-python",
   "name": "python",
   "nbconvert_exporter": "python",
   "pygments_lexer": "ipython3",
   "version": "3.7.4"
  }
 },
 "nbformat": 4,
 "nbformat_minor": 2
}
