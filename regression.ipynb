{
 "cells": [
  {
   "cell_type": "code",
   "execution_count": 4,
   "metadata": {},
   "outputs": [
    {
     "name": "stdout",
     "output_type": "stream",
     "text": [
      "['age', 'gender', 'state', 'income', 'education', 'high_speed_internet_users', 'wearable_technology_and_connectivity_users', 'smart_phone_users', 'restaurant_app_users', 'services_software_and_online_services_frequency', 'services_software_and_online_services_spend', 'restaurants_sit_down_casual_dining_frequency', 'restaurants_sit_down_casual_dining_spend', 'restaurants_sit_down_upscale_dining_frequency', 'restaurants_sit_down_upscale_dining_spend', 'restaurants_fast_casual_dining_frequency', 'restaurants_fast_casual_dining_spend', 'entertainment_movies_frequency', 'entertainment_movies_spend', 'services_ride_sharing_spend', 'services_ride_sharing_frequency', 'coffee_enthusiasts']\n",
      "['Unnamed: 0', 'age', 'gender', 'state', 'income', 'education', 'high_speed_internet_users', 'technology_and_connectivity__online_gamers', 'technology_and_connectivity__stream_music', 'technology_and_connectivity__science_&_new_tech_enthusiasts', 'technology_and_connectivity__owns_apple_products', 'technology_and_connectivity__smart_phone_owners', 'technology_and_connectivity__download_videos', 'technology_and_connectivity__stream_videos', 'technology_and_connectivity__electronics_enthusiast', 'wearable_technology_and_connectivity_users', 'smart_phone_users', 'restaurant_app_users', 'services_software_and_online_services__genealogy_research_service_paid_users', 'services_software_and_online_services__online_review_services_paid_users', 'services_software_and_online_services__graphic_design_software_paid_users', 'services_software_and_online_services__online_dating_paid_users', 'services_software_and_online_services_frequency', 'services_software_and_online_services_spend', 'restaurants_genres__ice_cream_restaurant_customers', 'restaurants_genres__italian_restaurant_customers', 'restaurants_genres__steakhouse_customers', 'restaurants_genres__pizza_restaurant_customers', 'restaurants_genres__coffee_shop_customers', 'restaurants_genres__sandwich_&_sub_restaurant_customers', 'restaurants_genres__donut_shop_customers', 'restaurants_genres__bbq_restaurant_customers', 'restaurants_genres__chicken_restaurant_customers', 'restaurants_genres__asian_restaurant_customers', 'restaurants_genres__pasta_restaurant_customers', 'restaurants_genres__dessert_restaurant_customers', 'restaurants_genres__seafood_restaurant_customers', 'restaurants_genres__lobster_restaurant_customers', 'restaurants_genres__french_restaurant_customers', 'restaurants_genres__american_restaurant_customers', 'restaurants_genres__mexican_restaurant_customers', 'restaurants_genres__mediterranean_restaurant_customers', 'restaurants_genres__delivery_pizza_restaurant_customers', 'restaurants_genres__chicken_wing_restaurant_customers', 'restaurants_genres__cafe_restaurant_customers', 'restaurants_genres__bakery_&_pastry_restaurant_customers', 'restaurants_genres__breakfast_food_customers', 'restaurants_genres__burger_restaurant_customers', 'restaurants_sit_down_casual_dining__arcade_&_entertainment_restaurant_customers', 'restaurants_sit_down_casual_dining__lunch_&_dinner_focused_restaurant_customers', 'restaurants_sit_down_casual_dining__upscale_casual_restaurant_customers', 'restaurants_sit_down_casual_dining_frequency', 'restaurants_sit_down_casual_dining_spend', 'restaurants_sit_down_upscale_dining__upscale_asian_fusion_restaurant_customers', 'restaurants_sit_down_upscale_dining__upscale_seafood_restaurant_customers', 'restaurants_sit_down_upscale_dining__upscale_steakhouse_customers', 'restaurants_sit_down_upscale_dining_frequency', 'restaurants_sit_down_upscale_dining_spend', 'restaurants_fast_casual_dining_frequency', 'restaurants_fast_casual_dining_spend', 'entertainment_movies__movie_renters', 'entertainment_movies__small_&_independent_theater_customers', 'entertainment_movies__national_brand_theater_customers', 'entertainment_movies__online_movie_ticket_buyers', 'entertainment_movies_frequency', 'entertainment_movies_spend', 'services_ride_sharing_spend', 'services_ride_sharing_frequency', 'coffee_enthusiasts', 'date', 'chlamydia', 'gential_warts', 'gonorrhea', 'herpes', 'hpv', 'other_std', 'parasitic', 'std_screen', 'syphilis', 'trich', 'age_65-74 years old', 'age_75+ years old', 'gender_Female', 'gender_Male', 'state_California', 'income_$100,000 - $104,999', 'income_$105,000 - $109,999', 'income_$110,000 - $114,999', 'income_$115,000 - $119,999', 'income_$120,000 - $124,999', 'income_$125,000 - $129,999', 'income_$130,000 - $134,999', 'income_$135,000 - $139,999', 'income_$140,000 - $144,999', 'income_$145,000 - $149,999', 'income_$15,000 - $19,999', 'income_$150,000 - $159,999', 'income_$160,000 - $169,999', 'income_$170,000 - $179,999', 'income_$180,000 - $189,999', 'income_$190,000 - $199,999', 'income_$20,000 - $24,999', 'income_$200,000 - $224,999', 'income_$225,000 - $249,999', 'income_$25,000 - $29,999', 'income_$250,000 or more', 'income_$30,000 - $34,999', 'income_$35,000 - $39,999', 'income_$40,000 - $44,999', 'income_$45,000 - $49,999', 'income_$50,000 - $54,999', 'income_$55,000 - $59,999', 'income_$60,000 - $64,999', 'income_$65,000 - $69,999', 'income_$70,000 - $74,999', 'income_$75,000 - $79,999', 'income_$80,000 - $84,999', 'income_$85,000 - $89,999', 'income_$90,000 - $94,999', 'income_$95,000 - $99,999', 'income_Less than $14,999', 'education_College', 'education_Graduate School', 'education_High School', 'education_Some College', 'education_Some High School or Less', 'high_speed_internet_users_low', 'high_speed_internet_users_medium', 'wearable_technology_and_connectivity_users_low', 'wearable_technology_and_connectivity_users_medium', 'smart_phone_users_low', 'smart_phone_users_medium', 'restaurant_app_users_high', 'restaurant_app_users_low', 'restaurant_app_users_medium', 'services_software_and_online_services_frequency_high', 'services_software_and_online_services_frequency_low', 'services_software_and_online_services_frequency_medium', 'services_software_and_online_services_spend_high', 'services_software_and_online_services_spend_low', 'services_software_and_online_services_spend_medium', 'restaurants_sit_down_casual_dining_frequency_high', 'restaurants_sit_down_casual_dining_frequency_low', 'restaurants_sit_down_casual_dining_frequency_medium', 'restaurants_sit_down_casual_dining_spend_high', 'restaurants_sit_down_casual_dining_spend_low', 'restaurants_sit_down_casual_dining_spend_medium', 'restaurants_sit_down_upscale_dining_frequency_high', 'restaurants_sit_down_upscale_dining_frequency_low', 'restaurants_sit_down_upscale_dining_frequency_medium', 'restaurants_sit_down_upscale_dining_spend_high', 'restaurants_sit_down_upscale_dining_spend_low', 'restaurants_sit_down_upscale_dining_spend_medium', 'restaurants_fast_casual_dining_frequency_low', 'restaurants_fast_casual_dining_spend_low', 'entertainment_movies_frequency_high', 'entertainment_movies_frequency_low', 'entertainment_movies_frequency_medium', 'entertainment_movies_spend_high', 'entertainment_movies_spend_low', 'entertainment_movies_spend_medium', 'services_ride_sharing_spend_low', 'services_ride_sharing_spend_medium', 'services_ride_sharing_frequency_high', 'services_ride_sharing_frequency_low', 'services_ride_sharing_frequency_medium', 'coffee_enthusiasts_low', 'coffee_enthusiasts_medium']\n",
      "[dtype('int64'), dtype('O'), dtype('O'), dtype('O'), dtype('O'), dtype('O'), dtype('O'), dtype('float64'), dtype('float64'), dtype('float64'), dtype('float64'), dtype('float64'), dtype('float64'), dtype('float64'), dtype('float64'), dtype('O'), dtype('O'), dtype('O'), dtype('float64'), dtype('float64'), dtype('float64'), dtype('float64'), dtype('O'), dtype('O'), dtype('float64'), dtype('float64'), dtype('float64'), dtype('float64'), dtype('float64'), dtype('float64'), dtype('float64'), dtype('float64'), dtype('float64'), dtype('float64'), dtype('float64'), dtype('float64'), dtype('float64'), dtype('float64'), dtype('float64'), dtype('float64'), dtype('float64'), dtype('float64'), dtype('float64'), dtype('float64'), dtype('float64'), dtype('float64'), dtype('float64'), dtype('float64'), dtype('float64'), dtype('float64'), dtype('float64'), dtype('O'), dtype('O'), dtype('float64'), dtype('float64'), dtype('float64'), dtype('O'), dtype('O'), dtype('O'), dtype('O'), dtype('float64'), dtype('float64'), dtype('float64'), dtype('float64'), dtype('O'), dtype('O'), dtype('O'), dtype('O'), dtype('O'), dtype('<M8[ns]'), dtype('float64'), dtype('float64'), dtype('float64'), dtype('float64'), dtype('float64'), dtype('float64'), dtype('float64'), dtype('float64'), dtype('float64'), dtype('float64'), dtype('uint8'), dtype('uint8'), dtype('uint8'), dtype('uint8'), dtype('uint8'), dtype('uint8'), dtype('uint8'), dtype('uint8'), dtype('uint8'), dtype('uint8'), dtype('uint8'), dtype('uint8'), dtype('uint8'), dtype('uint8'), dtype('uint8'), dtype('uint8'), dtype('uint8'), dtype('uint8'), dtype('uint8'), dtype('uint8'), dtype('uint8'), dtype('uint8'), dtype('uint8'), dtype('uint8'), dtype('uint8'), dtype('uint8'), dtype('uint8'), dtype('uint8'), dtype('uint8'), dtype('uint8'), dtype('uint8'), dtype('uint8'), dtype('uint8'), dtype('uint8'), dtype('uint8'), dtype('uint8'), dtype('uint8'), dtype('uint8'), dtype('uint8'), dtype('uint8'), dtype('uint8'), dtype('uint8'), dtype('uint8'), dtype('uint8'), dtype('uint8'), dtype('uint8'), dtype('uint8'), dtype('uint8'), dtype('uint8'), dtype('uint8'), dtype('uint8'), dtype('uint8'), dtype('uint8'), dtype('uint8'), dtype('uint8'), dtype('uint8'), dtype('uint8'), dtype('uint8'), dtype('uint8'), dtype('uint8'), dtype('uint8'), dtype('uint8'), dtype('uint8'), dtype('uint8'), dtype('uint8'), dtype('uint8'), dtype('uint8'), dtype('uint8'), dtype('uint8'), dtype('uint8'), dtype('uint8'), dtype('uint8'), dtype('uint8'), dtype('uint8'), dtype('uint8'), dtype('uint8'), dtype('uint8'), dtype('uint8'), dtype('uint8'), dtype('uint8'), dtype('uint8'), dtype('uint8'), dtype('uint8'), dtype('uint8'), dtype('uint8'), dtype('uint8'), dtype('uint8'), dtype('uint8')]\n"
     ]
    },
    {
     "ename": "ModuleNotFoundError",
     "evalue": "No module named 'statsmodels'",
     "output_type": "error",
     "traceback": [
      "\u001b[1;31m---------------------------------------------------------------------------\u001b[0m",
      "\u001b[1;31mModuleNotFoundError\u001b[0m                       Traceback (most recent call last)",
      "\u001b[1;32m<ipython-input-4-13be9f3f9c59>\u001b[0m in \u001b[0;36m<module>\u001b[1;34m\u001b[0m\n\u001b[0;32m     31\u001b[0m \u001b[1;31m#multiple regression on each std\u001b[0m\u001b[1;33m\u001b[0m\u001b[1;33m\u001b[0m\u001b[1;33m\u001b[0m\u001b[0m\n\u001b[0;32m     32\u001b[0m \u001b[1;31m#get lists of dependent and independent variables\u001b[0m\u001b[1;33m\u001b[0m\u001b[1;33m\u001b[0m\u001b[1;33m\u001b[0m\u001b[0m\n\u001b[1;32m---> 33\u001b[1;33m \u001b[1;32mimport\u001b[0m \u001b[0mstatsmodels\u001b[0m\u001b[1;33m.\u001b[0m\u001b[0mapi\u001b[0m \u001b[1;32mas\u001b[0m \u001b[0msm\u001b[0m\u001b[1;33m\u001b[0m\u001b[1;33m\u001b[0m\u001b[0m\n\u001b[0m\u001b[0;32m     34\u001b[0m \u001b[1;33m\u001b[0m\u001b[0m\n\u001b[0;32m     35\u001b[0m \u001b[1;31m#dependent vars\u001b[0m\u001b[1;33m\u001b[0m\u001b[1;33m\u001b[0m\u001b[1;33m\u001b[0m\u001b[0m\n",
      "\u001b[1;31mModuleNotFoundError\u001b[0m: No module named 'statsmodels'"
     ]
    }
   ],
   "source": [
    "import pandas as pd\n",
    "import numpy as np\n",
    "import sys\n",
    "# %%\n",
    "\n",
    "df=pd.read_csv('Data/elderly-ppl-CA.csv')\n",
    "df.head()\n",
    "\n",
    "# %%\n",
    "\n",
    "#get all columns with categorial variables\n",
    "obj_df=df.select_dtypes(include=['object']).copy()\n",
    "obj_df=obj_df.drop('date',axis=1)\n",
    "string_cols=obj_df.columns\n",
    "string_cols=list(string_cols)\n",
    "print(string_cols)\n",
    "\n",
    "# %%\n",
    "#one-hot encoding for these\n",
    "final_df=pd.concat([df,pd.get_dummies(df[string_cols])],axis=1)\n",
    "#convert dates to datetimes\n",
    "final_df['date']=final_df['date'].astype('datetime64[ns]')\n",
    "print(list(final_df.columns))\n",
    "print(list(final_df.dtypes))\n",
    "\n",
    "# %%\n",
    "\n",
    "\n",
    "\n",
    "# %%\n",
    "#multiple regression on each std\n",
    "#get lists of dependent and independent variables\n",
    "import statsmodels.api as sm\n",
    "\n",
    "#dependent vars\n",
    "std_list=['chlamydia','gential_warts','gonorrhea','herpes','hpv',\n",
    "          'other_std','parasitic','syphilis','trich']\n",
    "\n",
    "#independent vars\n",
    "age_vars=['age_65-74 years old','age_75+ years old']\n",
    "gender_vars=['gender_Female','gender_Male']\n",
    "income_vars=list(final_df['income'].unique())\n",
    "for i in range(len(income_vars)):\n",
    "    temp=income_vars[i]\n",
    "    temp2='income_'+temp\n",
    "    income_vars[i]=temp2\n",
    "education_vars=list(final_df['education'].unique())\n",
    "for i in range(len(education_vars)):\n",
    "    temp=education_vars[i]\n",
    "    temp2='education_'+temp\n",
    "    education_vars[i]=temp2\n",
    "\n",
    "# %%\n",
    "import numpy as np\n",
    "total_list=list(income_vars+education_vars+gender_vars)\n",
    "arr=np.array(np.zeros((len(std_list),len(total_list))))\n",
    "\n",
    "for i in range(len(std_list)):\n",
    "    std=std_list[i]\n",
    "    y=final_df[std]\n",
    "    X=final_df[gender_vars+income_vars+education_vars]\n",
    "    est=sm.OLS(y,X,missing='drop').fit()\n",
    "    arr[i,:]=est.pvalues\n",
    "    #print(est.summary()\n",
    "for i in range(len(std_list)):\n",
    "    std=std_list[i]\n",
    "    for j in range(len(total_list)):\n",
    "        var=total_list[j]\n",
    "        print('\\t'+ std + '\\t'+var+ '\\t'+ str(arr[i,j]))\n",
    "alpha=0.05\n",
    "bonferroni_p=alpha/len(list(income_vars+education_vars+gender_vars))\n",
    "print(bonferroni_p)\n"
   ]
  }
 ],
 "metadata": {
  "kernelspec": {
   "display_name": "Python 3",
   "language": "python",
   "name": "python3"
  },
  "language_info": {
   "codemirror_mode": {
    "name": "ipython",
    "version": 3
   },
   "file_extension": ".py",
   "mimetype": "text/x-python",
   "name": "python",
   "nbconvert_exporter": "python",
   "pygments_lexer": "ipython3",
   "version": "3.6.9"
  }
 },
 "nbformat": 4,
 "nbformat_minor": 2
}
